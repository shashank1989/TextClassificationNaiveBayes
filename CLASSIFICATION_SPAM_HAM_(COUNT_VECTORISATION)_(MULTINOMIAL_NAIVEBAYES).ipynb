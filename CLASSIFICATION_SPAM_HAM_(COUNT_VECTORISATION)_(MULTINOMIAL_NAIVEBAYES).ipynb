{
 "cells": [
  {
   "cell_type": "code",
   "execution_count": 1,
   "id": "39341c9e",
   "metadata": {},
   "outputs": [],
   "source": [
    "import pandas as pd\n",
    "import numpy as np\n",
    "import matplotlib.pyplot as plt\n",
    "import seaborn as sb\n",
    "from sklearn.feature_extraction.text import TfidfVectorizer,CountVectorizer\n",
    "from sklearn.naive_bayes import MultinomialNB,BernoulliNB\n",
    "from sklearn.model_selection import train_test_split"
   ]
  },
  {
   "cell_type": "code",
   "execution_count": 2,
   "id": "c4c8497c",
   "metadata": {},
   "outputs": [],
   "source": [
    "docs = pd.read_table(\"/Volumes/MyFiles/MachineLearning/upgrad/LiveCourse/Naive Bayes/SMSSpamCollection\",names=['class','sms'])"
   ]
  },
  {
   "cell_type": "code",
   "execution_count": 3,
   "id": "a053fef4",
   "metadata": {},
   "outputs": [
    {
     "data": {
      "text/html": [
       "<div>\n",
       "<style scoped>\n",
       "    .dataframe tbody tr th:only-of-type {\n",
       "        vertical-align: middle;\n",
       "    }\n",
       "\n",
       "    .dataframe tbody tr th {\n",
       "        vertical-align: top;\n",
       "    }\n",
       "\n",
       "    .dataframe thead th {\n",
       "        text-align: right;\n",
       "    }\n",
       "</style>\n",
       "<table border=\"1\" class=\"dataframe\">\n",
       "  <thead>\n",
       "    <tr style=\"text-align: right;\">\n",
       "      <th></th>\n",
       "      <th>class</th>\n",
       "      <th>sms</th>\n",
       "    </tr>\n",
       "  </thead>\n",
       "  <tbody>\n",
       "    <tr>\n",
       "      <th>0</th>\n",
       "      <td>ham</td>\n",
       "      <td>Go until jurong point, crazy.. Available only ...</td>\n",
       "    </tr>\n",
       "    <tr>\n",
       "      <th>1</th>\n",
       "      <td>ham</td>\n",
       "      <td>Ok lar... Joking wif u oni...</td>\n",
       "    </tr>\n",
       "    <tr>\n",
       "      <th>2</th>\n",
       "      <td>spam</td>\n",
       "      <td>Free entry in 2 a wkly comp to win FA Cup fina...</td>\n",
       "    </tr>\n",
       "    <tr>\n",
       "      <th>3</th>\n",
       "      <td>ham</td>\n",
       "      <td>U dun say so early hor... U c already then say...</td>\n",
       "    </tr>\n",
       "    <tr>\n",
       "      <th>4</th>\n",
       "      <td>ham</td>\n",
       "      <td>Nah I don't think he goes to usf, he lives aro...</td>\n",
       "    </tr>\n",
       "  </tbody>\n",
       "</table>\n",
       "</div>"
      ],
      "text/plain": [
       "  class                                                sms\n",
       "0   ham  Go until jurong point, crazy.. Available only ...\n",
       "1   ham                      Ok lar... Joking wif u oni...\n",
       "2  spam  Free entry in 2 a wkly comp to win FA Cup fina...\n",
       "3   ham  U dun say so early hor... U c already then say...\n",
       "4   ham  Nah I don't think he goes to usf, he lives aro..."
      ]
     },
     "execution_count": 3,
     "metadata": {},
     "output_type": "execute_result"
    }
   ],
   "source": [
    "docs.head()"
   ]
  },
  {
   "cell_type": "code",
   "execution_count": 4,
   "id": "c199e417",
   "metadata": {},
   "outputs": [
    {
     "data": {
      "text/plain": [
       "5572"
      ]
     },
     "execution_count": 4,
     "metadata": {},
     "output_type": "execute_result"
    }
   ],
   "source": [
    "# Length of Documents - 5572 documents \n",
    "\n",
    "len(docs)"
   ]
  },
  {
   "cell_type": "code",
   "execution_count": 5,
   "id": "49ee9a2d",
   "metadata": {},
   "outputs": [
    {
     "data": {
      "text/plain": [
       "ham     4825\n",
       "spam     747\n",
       "Name: class, dtype: int64"
      ]
     },
     "execution_count": 5,
     "metadata": {},
     "output_type": "execute_result"
    }
   ],
   "source": [
    "# Count No of Spam and No of Ham \n",
    "\n",
    "docs['class'].value_counts()"
   ]
  },
  {
   "cell_type": "code",
   "execution_count": 6,
   "id": "ba70e2e5",
   "metadata": {},
   "outputs": [
    {
     "data": {
      "text/plain": [
       "13.41"
      ]
     },
     "execution_count": 6,
     "metadata": {},
     "output_type": "execute_result"
    }
   ],
   "source": [
    "# SPAM RATE\n",
    "\n",
    "round(100*len(docs[docs['class']=='spam'])/len(docs.index),2)"
   ]
  },
  {
   "cell_type": "code",
   "execution_count": 7,
   "id": "20912a3c",
   "metadata": {},
   "outputs": [
    {
     "data": {
      "text/plain": [
       "86.59"
      ]
     },
     "execution_count": 7,
     "metadata": {},
     "output_type": "execute_result"
    }
   ],
   "source": [
    "# HAM RATE\n",
    "\n",
    "round(100*len(docs[docs['class']=='ham'])/len(docs.index),2)"
   ]
  },
  {
   "cell_type": "code",
   "execution_count": 8,
   "id": "987b6d50",
   "metadata": {},
   "outputs": [
    {
     "data": {
      "text/plain": [
       "0       0\n",
       "1       0\n",
       "2       1\n",
       "3       0\n",
       "4       0\n",
       "       ..\n",
       "5567    1\n",
       "5568    0\n",
       "5569    0\n",
       "5570    0\n",
       "5571    0\n",
       "Name: class, Length: 5572, dtype: int64"
      ]
     },
     "execution_count": 8,
     "metadata": {},
     "output_type": "execute_result"
    }
   ],
   "source": [
    "# Categorical Encode SPAM AND HAM\n",
    "\n",
    "docs['class'] = docs['class'].map({'spam':1,'ham':0})\n",
    "docs['class']"
   ]
  },
  {
   "cell_type": "code",
   "execution_count": 9,
   "id": "0068a6ae",
   "metadata": {},
   "outputs": [],
   "source": [
    "# Split the data to X & Y\n",
    "\n",
    "X = docs[['sms']]\n",
    "Y = docs[['class']]"
   ]
  },
  {
   "cell_type": "code",
   "execution_count": 10,
   "id": "d3d05c27",
   "metadata": {},
   "outputs": [],
   "source": [
    "xtrain,xtest,ytrain,ytest = train_test_split(X,Y,test_size=.3,random_state=42)"
   ]
  },
  {
   "cell_type": "code",
   "execution_count": 11,
   "id": "f609e1c8",
   "metadata": {},
   "outputs": [
    {
     "data": {
      "text/html": [
       "<div>\n",
       "<style scoped>\n",
       "    .dataframe tbody tr th:only-of-type {\n",
       "        vertical-align: middle;\n",
       "    }\n",
       "\n",
       "    .dataframe tbody tr th {\n",
       "        vertical-align: top;\n",
       "    }\n",
       "\n",
       "    .dataframe thead th {\n",
       "        text-align: right;\n",
       "    }\n",
       "</style>\n",
       "<table border=\"1\" class=\"dataframe\">\n",
       "  <thead>\n",
       "    <tr style=\"text-align: right;\">\n",
       "      <th></th>\n",
       "      <th>sms</th>\n",
       "    </tr>\n",
       "  </thead>\n",
       "  <tbody>\n",
       "    <tr>\n",
       "      <th>708</th>\n",
       "      <td>Quite late lar... Ard 12 anyway i wun b drivin...</td>\n",
       "    </tr>\n",
       "    <tr>\n",
       "      <th>4338</th>\n",
       "      <td>on a Tuesday night r u 4 real</td>\n",
       "    </tr>\n",
       "    <tr>\n",
       "      <th>5029</th>\n",
       "      <td>Go chase after her and run her over while she'...</td>\n",
       "    </tr>\n",
       "    <tr>\n",
       "      <th>4921</th>\n",
       "      <td>G says you never answer your texts, confirm/deny</td>\n",
       "    </tr>\n",
       "    <tr>\n",
       "      <th>2592</th>\n",
       "      <td>Still work going on:)it is very small house.</td>\n",
       "    </tr>\n",
       "  </tbody>\n",
       "</table>\n",
       "</div>"
      ],
      "text/plain": [
       "                                                    sms\n",
       "708   Quite late lar... Ard 12 anyway i wun b drivin...\n",
       "4338                      on a Tuesday night r u 4 real\n",
       "5029  Go chase after her and run her over while she'...\n",
       "4921   G says you never answer your texts, confirm/deny\n",
       "2592       Still work going on:)it is very small house."
      ]
     },
     "execution_count": 11,
     "metadata": {},
     "output_type": "execute_result"
    }
   ],
   "source": [
    "xtrain.head()"
   ]
  },
  {
   "cell_type": "code",
   "execution_count": 12,
   "id": "d624187f",
   "metadata": {},
   "outputs": [
    {
     "data": {
      "text/html": [
       "<div>\n",
       "<style scoped>\n",
       "    .dataframe tbody tr th:only-of-type {\n",
       "        vertical-align: middle;\n",
       "    }\n",
       "\n",
       "    .dataframe tbody tr th {\n",
       "        vertical-align: top;\n",
       "    }\n",
       "\n",
       "    .dataframe thead th {\n",
       "        text-align: right;\n",
       "    }\n",
       "</style>\n",
       "<table border=\"1\" class=\"dataframe\">\n",
       "  <thead>\n",
       "    <tr style=\"text-align: right;\">\n",
       "      <th></th>\n",
       "      <th>class</th>\n",
       "    </tr>\n",
       "  </thead>\n",
       "  <tbody>\n",
       "    <tr>\n",
       "      <th>708</th>\n",
       "      <td>0</td>\n",
       "    </tr>\n",
       "    <tr>\n",
       "      <th>4338</th>\n",
       "      <td>0</td>\n",
       "    </tr>\n",
       "    <tr>\n",
       "      <th>5029</th>\n",
       "      <td>0</td>\n",
       "    </tr>\n",
       "    <tr>\n",
       "      <th>4921</th>\n",
       "      <td>0</td>\n",
       "    </tr>\n",
       "    <tr>\n",
       "      <th>2592</th>\n",
       "      <td>0</td>\n",
       "    </tr>\n",
       "  </tbody>\n",
       "</table>\n",
       "</div>"
      ],
      "text/plain": [
       "      class\n",
       "708       0\n",
       "4338      0\n",
       "5029      0\n",
       "4921      0\n",
       "2592      0"
      ]
     },
     "execution_count": 12,
     "metadata": {},
     "output_type": "execute_result"
    }
   ],
   "source": [
    "ytrain.head()"
   ]
  },
  {
   "cell_type": "markdown",
   "id": "4d8af889",
   "metadata": {},
   "source": [
    "# Using CountVectorizer"
   ]
  },
  {
   "cell_type": "code",
   "execution_count": 13,
   "id": "1de51075",
   "metadata": {},
   "outputs": [],
   "source": [
    "from sklearn.feature_extraction.text import CountVectorizer\n",
    "countvect = CountVectorizer(stop_words='english')"
   ]
  },
  {
   "cell_type": "code",
   "execution_count": 14,
   "id": "fe26f4b1",
   "metadata": {},
   "outputs": [
    {
     "data": {
      "text/plain": [
       "<3900x7004 sparse matrix of type '<class 'numpy.int64'>'\n",
       "\twith 30655 stored elements in Compressed Sparse Row format>"
      ]
     },
     "execution_count": 14,
     "metadata": {},
     "output_type": "execute_result"
    }
   ],
   "source": [
    "countvect.fit_transform(xtrain['sms'])"
   ]
  },
  {
   "cell_type": "code",
   "execution_count": 15,
   "id": "710673f3",
   "metadata": {},
   "outputs": [],
   "source": [
    "#countvect.vocabulary_"
   ]
  },
  {
   "cell_type": "code",
   "execution_count": 16,
   "id": "d827297b",
   "metadata": {},
   "outputs": [
    {
     "data": {
      "text/plain": [
       "7004"
      ]
     },
     "execution_count": 16,
     "metadata": {},
     "output_type": "execute_result"
    }
   ],
   "source": [
    "# vocab size\n",
    "\n",
    "len(countvect.vocabulary_.keys())"
   ]
  },
  {
   "cell_type": "code",
   "execution_count": 17,
   "id": "d45ad02c",
   "metadata": {},
   "outputs": [],
   "source": [
    "# Transforming the matrix in compressed row format\n",
    "\n",
    "xtrain_cv_transformed = countvect.transform(xtrain['sms'])\n",
    "\n",
    "# Transforming Test Data\n",
    "\n",
    "xtest_cv_transformed = countvect.transform(xtest['sms'])"
   ]
  },
  {
   "cell_type": "code",
   "execution_count": 18,
   "id": "cb6cb965",
   "metadata": {},
   "outputs": [
    {
     "name": "stdout",
     "output_type": "stream",
     "text": [
      "<class 'scipy.sparse.csr.csr_matrix'>\n"
     ]
    }
   ],
   "source": [
    "print(type(xtrain_cv_transformed))"
   ]
  },
  {
   "cell_type": "code",
   "execution_count": 19,
   "id": "847718c2",
   "metadata": {},
   "outputs": [
    {
     "name": "stdout",
     "output_type": "stream",
     "text": [
      "7004\n"
     ]
    },
    {
     "data": {
      "text/html": [
       "<div>\n",
       "<style scoped>\n",
       "    .dataframe tbody tr th:only-of-type {\n",
       "        vertical-align: middle;\n",
       "    }\n",
       "\n",
       "    .dataframe tbody tr th {\n",
       "        vertical-align: top;\n",
       "    }\n",
       "\n",
       "    .dataframe thead th {\n",
       "        text-align: right;\n",
       "    }\n",
       "</style>\n",
       "<table border=\"1\" class=\"dataframe\">\n",
       "  <thead>\n",
       "    <tr style=\"text-align: right;\">\n",
       "      <th></th>\n",
       "      <th>00</th>\n",
       "      <th>000</th>\n",
       "      <th>000pes</th>\n",
       "      <th>008704050406</th>\n",
       "      <th>0089</th>\n",
       "      <th>0121</th>\n",
       "      <th>01223585236</th>\n",
       "      <th>01223585334</th>\n",
       "      <th>02</th>\n",
       "      <th>0207</th>\n",
       "      <th>...</th>\n",
       "      <th>zed</th>\n",
       "      <th>zeros</th>\n",
       "      <th>zhong</th>\n",
       "      <th>zindgi</th>\n",
       "      <th>zoe</th>\n",
       "      <th>zogtorius</th>\n",
       "      <th>zoom</th>\n",
       "      <th>zouk</th>\n",
       "      <th>zyada</th>\n",
       "      <th>èn</th>\n",
       "    </tr>\n",
       "  </thead>\n",
       "  <tbody>\n",
       "    <tr>\n",
       "      <th>0</th>\n",
       "      <td>0</td>\n",
       "      <td>0</td>\n",
       "      <td>0</td>\n",
       "      <td>0</td>\n",
       "      <td>0</td>\n",
       "      <td>0</td>\n",
       "      <td>0</td>\n",
       "      <td>0</td>\n",
       "      <td>0</td>\n",
       "      <td>0</td>\n",
       "      <td>...</td>\n",
       "      <td>0</td>\n",
       "      <td>0</td>\n",
       "      <td>0</td>\n",
       "      <td>0</td>\n",
       "      <td>0</td>\n",
       "      <td>0</td>\n",
       "      <td>0</td>\n",
       "      <td>0</td>\n",
       "      <td>0</td>\n",
       "      <td>0</td>\n",
       "    </tr>\n",
       "    <tr>\n",
       "      <th>1</th>\n",
       "      <td>0</td>\n",
       "      <td>0</td>\n",
       "      <td>0</td>\n",
       "      <td>0</td>\n",
       "      <td>0</td>\n",
       "      <td>0</td>\n",
       "      <td>0</td>\n",
       "      <td>0</td>\n",
       "      <td>0</td>\n",
       "      <td>0</td>\n",
       "      <td>...</td>\n",
       "      <td>0</td>\n",
       "      <td>0</td>\n",
       "      <td>0</td>\n",
       "      <td>0</td>\n",
       "      <td>0</td>\n",
       "      <td>0</td>\n",
       "      <td>0</td>\n",
       "      <td>0</td>\n",
       "      <td>0</td>\n",
       "      <td>0</td>\n",
       "    </tr>\n",
       "    <tr>\n",
       "      <th>2</th>\n",
       "      <td>0</td>\n",
       "      <td>0</td>\n",
       "      <td>0</td>\n",
       "      <td>0</td>\n",
       "      <td>0</td>\n",
       "      <td>0</td>\n",
       "      <td>0</td>\n",
       "      <td>0</td>\n",
       "      <td>0</td>\n",
       "      <td>0</td>\n",
       "      <td>...</td>\n",
       "      <td>0</td>\n",
       "      <td>0</td>\n",
       "      <td>0</td>\n",
       "      <td>0</td>\n",
       "      <td>0</td>\n",
       "      <td>0</td>\n",
       "      <td>0</td>\n",
       "      <td>0</td>\n",
       "      <td>0</td>\n",
       "      <td>0</td>\n",
       "    </tr>\n",
       "    <tr>\n",
       "      <th>3</th>\n",
       "      <td>0</td>\n",
       "      <td>0</td>\n",
       "      <td>0</td>\n",
       "      <td>0</td>\n",
       "      <td>0</td>\n",
       "      <td>0</td>\n",
       "      <td>0</td>\n",
       "      <td>0</td>\n",
       "      <td>0</td>\n",
       "      <td>0</td>\n",
       "      <td>...</td>\n",
       "      <td>0</td>\n",
       "      <td>0</td>\n",
       "      <td>0</td>\n",
       "      <td>0</td>\n",
       "      <td>0</td>\n",
       "      <td>0</td>\n",
       "      <td>0</td>\n",
       "      <td>0</td>\n",
       "      <td>0</td>\n",
       "      <td>0</td>\n",
       "    </tr>\n",
       "    <tr>\n",
       "      <th>4</th>\n",
       "      <td>0</td>\n",
       "      <td>0</td>\n",
       "      <td>0</td>\n",
       "      <td>0</td>\n",
       "      <td>0</td>\n",
       "      <td>0</td>\n",
       "      <td>0</td>\n",
       "      <td>0</td>\n",
       "      <td>0</td>\n",
       "      <td>0</td>\n",
       "      <td>...</td>\n",
       "      <td>0</td>\n",
       "      <td>0</td>\n",
       "      <td>0</td>\n",
       "      <td>0</td>\n",
       "      <td>0</td>\n",
       "      <td>0</td>\n",
       "      <td>0</td>\n",
       "      <td>0</td>\n",
       "      <td>0</td>\n",
       "      <td>0</td>\n",
       "    </tr>\n",
       "    <tr>\n",
       "      <th>...</th>\n",
       "      <td>...</td>\n",
       "      <td>...</td>\n",
       "      <td>...</td>\n",
       "      <td>...</td>\n",
       "      <td>...</td>\n",
       "      <td>...</td>\n",
       "      <td>...</td>\n",
       "      <td>...</td>\n",
       "      <td>...</td>\n",
       "      <td>...</td>\n",
       "      <td>...</td>\n",
       "      <td>...</td>\n",
       "      <td>...</td>\n",
       "      <td>...</td>\n",
       "      <td>...</td>\n",
       "      <td>...</td>\n",
       "      <td>...</td>\n",
       "      <td>...</td>\n",
       "      <td>...</td>\n",
       "      <td>...</td>\n",
       "      <td>...</td>\n",
       "    </tr>\n",
       "    <tr>\n",
       "      <th>3895</th>\n",
       "      <td>0</td>\n",
       "      <td>0</td>\n",
       "      <td>0</td>\n",
       "      <td>0</td>\n",
       "      <td>0</td>\n",
       "      <td>0</td>\n",
       "      <td>0</td>\n",
       "      <td>0</td>\n",
       "      <td>0</td>\n",
       "      <td>0</td>\n",
       "      <td>...</td>\n",
       "      <td>0</td>\n",
       "      <td>0</td>\n",
       "      <td>0</td>\n",
       "      <td>0</td>\n",
       "      <td>0</td>\n",
       "      <td>0</td>\n",
       "      <td>0</td>\n",
       "      <td>0</td>\n",
       "      <td>0</td>\n",
       "      <td>0</td>\n",
       "    </tr>\n",
       "    <tr>\n",
       "      <th>3896</th>\n",
       "      <td>0</td>\n",
       "      <td>0</td>\n",
       "      <td>0</td>\n",
       "      <td>0</td>\n",
       "      <td>0</td>\n",
       "      <td>0</td>\n",
       "      <td>0</td>\n",
       "      <td>0</td>\n",
       "      <td>0</td>\n",
       "      <td>0</td>\n",
       "      <td>...</td>\n",
       "      <td>0</td>\n",
       "      <td>0</td>\n",
       "      <td>0</td>\n",
       "      <td>0</td>\n",
       "      <td>0</td>\n",
       "      <td>0</td>\n",
       "      <td>0</td>\n",
       "      <td>0</td>\n",
       "      <td>0</td>\n",
       "      <td>0</td>\n",
       "    </tr>\n",
       "    <tr>\n",
       "      <th>3897</th>\n",
       "      <td>0</td>\n",
       "      <td>0</td>\n",
       "      <td>0</td>\n",
       "      <td>0</td>\n",
       "      <td>0</td>\n",
       "      <td>0</td>\n",
       "      <td>0</td>\n",
       "      <td>0</td>\n",
       "      <td>0</td>\n",
       "      <td>0</td>\n",
       "      <td>...</td>\n",
       "      <td>0</td>\n",
       "      <td>0</td>\n",
       "      <td>0</td>\n",
       "      <td>0</td>\n",
       "      <td>0</td>\n",
       "      <td>0</td>\n",
       "      <td>0</td>\n",
       "      <td>0</td>\n",
       "      <td>0</td>\n",
       "      <td>0</td>\n",
       "    </tr>\n",
       "    <tr>\n",
       "      <th>3898</th>\n",
       "      <td>0</td>\n",
       "      <td>0</td>\n",
       "      <td>0</td>\n",
       "      <td>0</td>\n",
       "      <td>0</td>\n",
       "      <td>0</td>\n",
       "      <td>0</td>\n",
       "      <td>0</td>\n",
       "      <td>0</td>\n",
       "      <td>0</td>\n",
       "      <td>...</td>\n",
       "      <td>0</td>\n",
       "      <td>0</td>\n",
       "      <td>0</td>\n",
       "      <td>0</td>\n",
       "      <td>0</td>\n",
       "      <td>0</td>\n",
       "      <td>0</td>\n",
       "      <td>0</td>\n",
       "      <td>0</td>\n",
       "      <td>0</td>\n",
       "    </tr>\n",
       "    <tr>\n",
       "      <th>3899</th>\n",
       "      <td>0</td>\n",
       "      <td>0</td>\n",
       "      <td>0</td>\n",
       "      <td>0</td>\n",
       "      <td>0</td>\n",
       "      <td>0</td>\n",
       "      <td>0</td>\n",
       "      <td>0</td>\n",
       "      <td>0</td>\n",
       "      <td>0</td>\n",
       "      <td>...</td>\n",
       "      <td>0</td>\n",
       "      <td>0</td>\n",
       "      <td>0</td>\n",
       "      <td>0</td>\n",
       "      <td>0</td>\n",
       "      <td>0</td>\n",
       "      <td>0</td>\n",
       "      <td>0</td>\n",
       "      <td>0</td>\n",
       "      <td>0</td>\n",
       "    </tr>\n",
       "  </tbody>\n",
       "</table>\n",
       "<p>3900 rows × 7004 columns</p>\n",
       "</div>"
      ],
      "text/plain": [
       "      00  000  000pes  008704050406  0089  0121  01223585236  01223585334  02  \\\n",
       "0      0    0       0             0     0     0            0            0   0   \n",
       "1      0    0       0             0     0     0            0            0   0   \n",
       "2      0    0       0             0     0     0            0            0   0   \n",
       "3      0    0       0             0     0     0            0            0   0   \n",
       "4      0    0       0             0     0     0            0            0   0   \n",
       "...   ..  ...     ...           ...   ...   ...          ...          ...  ..   \n",
       "3895   0    0       0             0     0     0            0            0   0   \n",
       "3896   0    0       0             0     0     0            0            0   0   \n",
       "3897   0    0       0             0     0     0            0            0   0   \n",
       "3898   0    0       0             0     0     0            0            0   0   \n",
       "3899   0    0       0             0     0     0            0            0   0   \n",
       "\n",
       "      0207  ...  zed  zeros  zhong  zindgi  zoe  zogtorius  zoom  zouk  zyada  \\\n",
       "0        0  ...    0      0      0       0    0          0     0     0      0   \n",
       "1        0  ...    0      0      0       0    0          0     0     0      0   \n",
       "2        0  ...    0      0      0       0    0          0     0     0      0   \n",
       "3        0  ...    0      0      0       0    0          0     0     0      0   \n",
       "4        0  ...    0      0      0       0    0          0     0     0      0   \n",
       "...    ...  ...  ...    ...    ...     ...  ...        ...   ...   ...    ...   \n",
       "3895     0  ...    0      0      0       0    0          0     0     0      0   \n",
       "3896     0  ...    0      0      0       0    0          0     0     0      0   \n",
       "3897     0  ...    0      0      0       0    0          0     0     0      0   \n",
       "3898     0  ...    0      0      0       0    0          0     0     0      0   \n",
       "3899     0  ...    0      0      0       0    0          0     0     0      0   \n",
       "\n",
       "      èn  \n",
       "0      0  \n",
       "1      0  \n",
       "2      0  \n",
       "3      0  \n",
       "4      0  \n",
       "...   ..  \n",
       "3895   0  \n",
       "3896   0  \n",
       "3897   0  \n",
       "3898   0  \n",
       "3899   0  \n",
       "\n",
       "[3900 rows x 7004 columns]"
      ]
     },
     "execution_count": 19,
     "metadata": {},
     "output_type": "execute_result"
    }
   ],
   "source": [
    "#FeatureNames\n",
    "\n",
    "#print(countvect.get_feature_names())\n",
    "\n",
    "#Len of the Features\n",
    "\n",
    "print(len(countvect.get_feature_names()))\n",
    "\n",
    "pd.DataFrame(xtrain_cv_transformed.toarray(),columns=countvect.get_feature_names())"
   ]
  },
  {
   "cell_type": "code",
   "execution_count": 20,
   "id": "67c2982b",
   "metadata": {},
   "outputs": [
    {
     "data": {
      "text/html": [
       "<div>\n",
       "<style scoped>\n",
       "    .dataframe tbody tr th:only-of-type {\n",
       "        vertical-align: middle;\n",
       "    }\n",
       "\n",
       "    .dataframe tbody tr th {\n",
       "        vertical-align: top;\n",
       "    }\n",
       "\n",
       "    .dataframe thead th {\n",
       "        text-align: right;\n",
       "    }\n",
       "</style>\n",
       "<table border=\"1\" class=\"dataframe\">\n",
       "  <thead>\n",
       "    <tr style=\"text-align: right;\">\n",
       "      <th></th>\n",
       "      <th>00</th>\n",
       "      <th>000</th>\n",
       "      <th>000pes</th>\n",
       "      <th>008704050406</th>\n",
       "      <th>0089</th>\n",
       "      <th>0121</th>\n",
       "      <th>01223585236</th>\n",
       "      <th>01223585334</th>\n",
       "      <th>02</th>\n",
       "      <th>0207</th>\n",
       "      <th>...</th>\n",
       "      <th>zed</th>\n",
       "      <th>zeros</th>\n",
       "      <th>zhong</th>\n",
       "      <th>zindgi</th>\n",
       "      <th>zoe</th>\n",
       "      <th>zogtorius</th>\n",
       "      <th>zoom</th>\n",
       "      <th>zouk</th>\n",
       "      <th>zyada</th>\n",
       "      <th>èn</th>\n",
       "    </tr>\n",
       "  </thead>\n",
       "  <tbody>\n",
       "    <tr>\n",
       "      <th>0</th>\n",
       "      <td>0</td>\n",
       "      <td>0</td>\n",
       "      <td>0</td>\n",
       "      <td>0</td>\n",
       "      <td>0</td>\n",
       "      <td>0</td>\n",
       "      <td>0</td>\n",
       "      <td>0</td>\n",
       "      <td>0</td>\n",
       "      <td>0</td>\n",
       "      <td>...</td>\n",
       "      <td>0</td>\n",
       "      <td>0</td>\n",
       "      <td>0</td>\n",
       "      <td>0</td>\n",
       "      <td>0</td>\n",
       "      <td>0</td>\n",
       "      <td>0</td>\n",
       "      <td>0</td>\n",
       "      <td>0</td>\n",
       "      <td>0</td>\n",
       "    </tr>\n",
       "    <tr>\n",
       "      <th>1</th>\n",
       "      <td>0</td>\n",
       "      <td>0</td>\n",
       "      <td>0</td>\n",
       "      <td>0</td>\n",
       "      <td>0</td>\n",
       "      <td>0</td>\n",
       "      <td>0</td>\n",
       "      <td>0</td>\n",
       "      <td>0</td>\n",
       "      <td>0</td>\n",
       "      <td>...</td>\n",
       "      <td>0</td>\n",
       "      <td>0</td>\n",
       "      <td>0</td>\n",
       "      <td>0</td>\n",
       "      <td>0</td>\n",
       "      <td>0</td>\n",
       "      <td>0</td>\n",
       "      <td>0</td>\n",
       "      <td>0</td>\n",
       "      <td>0</td>\n",
       "    </tr>\n",
       "    <tr>\n",
       "      <th>2</th>\n",
       "      <td>0</td>\n",
       "      <td>0</td>\n",
       "      <td>0</td>\n",
       "      <td>0</td>\n",
       "      <td>0</td>\n",
       "      <td>0</td>\n",
       "      <td>0</td>\n",
       "      <td>0</td>\n",
       "      <td>0</td>\n",
       "      <td>0</td>\n",
       "      <td>...</td>\n",
       "      <td>0</td>\n",
       "      <td>0</td>\n",
       "      <td>0</td>\n",
       "      <td>0</td>\n",
       "      <td>0</td>\n",
       "      <td>0</td>\n",
       "      <td>0</td>\n",
       "      <td>0</td>\n",
       "      <td>0</td>\n",
       "      <td>0</td>\n",
       "    </tr>\n",
       "    <tr>\n",
       "      <th>3</th>\n",
       "      <td>0</td>\n",
       "      <td>0</td>\n",
       "      <td>0</td>\n",
       "      <td>0</td>\n",
       "      <td>0</td>\n",
       "      <td>0</td>\n",
       "      <td>0</td>\n",
       "      <td>0</td>\n",
       "      <td>0</td>\n",
       "      <td>0</td>\n",
       "      <td>...</td>\n",
       "      <td>0</td>\n",
       "      <td>0</td>\n",
       "      <td>0</td>\n",
       "      <td>0</td>\n",
       "      <td>0</td>\n",
       "      <td>0</td>\n",
       "      <td>0</td>\n",
       "      <td>0</td>\n",
       "      <td>0</td>\n",
       "      <td>0</td>\n",
       "    </tr>\n",
       "    <tr>\n",
       "      <th>4</th>\n",
       "      <td>0</td>\n",
       "      <td>0</td>\n",
       "      <td>0</td>\n",
       "      <td>0</td>\n",
       "      <td>0</td>\n",
       "      <td>0</td>\n",
       "      <td>0</td>\n",
       "      <td>0</td>\n",
       "      <td>0</td>\n",
       "      <td>0</td>\n",
       "      <td>...</td>\n",
       "      <td>0</td>\n",
       "      <td>0</td>\n",
       "      <td>0</td>\n",
       "      <td>0</td>\n",
       "      <td>0</td>\n",
       "      <td>0</td>\n",
       "      <td>0</td>\n",
       "      <td>0</td>\n",
       "      <td>0</td>\n",
       "      <td>0</td>\n",
       "    </tr>\n",
       "    <tr>\n",
       "      <th>...</th>\n",
       "      <td>...</td>\n",
       "      <td>...</td>\n",
       "      <td>...</td>\n",
       "      <td>...</td>\n",
       "      <td>...</td>\n",
       "      <td>...</td>\n",
       "      <td>...</td>\n",
       "      <td>...</td>\n",
       "      <td>...</td>\n",
       "      <td>...</td>\n",
       "      <td>...</td>\n",
       "      <td>...</td>\n",
       "      <td>...</td>\n",
       "      <td>...</td>\n",
       "      <td>...</td>\n",
       "      <td>...</td>\n",
       "      <td>...</td>\n",
       "      <td>...</td>\n",
       "      <td>...</td>\n",
       "      <td>...</td>\n",
       "      <td>...</td>\n",
       "    </tr>\n",
       "    <tr>\n",
       "      <th>1667</th>\n",
       "      <td>0</td>\n",
       "      <td>0</td>\n",
       "      <td>0</td>\n",
       "      <td>0</td>\n",
       "      <td>0</td>\n",
       "      <td>0</td>\n",
       "      <td>0</td>\n",
       "      <td>0</td>\n",
       "      <td>0</td>\n",
       "      <td>0</td>\n",
       "      <td>...</td>\n",
       "      <td>0</td>\n",
       "      <td>0</td>\n",
       "      <td>0</td>\n",
       "      <td>0</td>\n",
       "      <td>0</td>\n",
       "      <td>0</td>\n",
       "      <td>0</td>\n",
       "      <td>0</td>\n",
       "      <td>0</td>\n",
       "      <td>0</td>\n",
       "    </tr>\n",
       "    <tr>\n",
       "      <th>1668</th>\n",
       "      <td>0</td>\n",
       "      <td>0</td>\n",
       "      <td>0</td>\n",
       "      <td>0</td>\n",
       "      <td>0</td>\n",
       "      <td>0</td>\n",
       "      <td>0</td>\n",
       "      <td>0</td>\n",
       "      <td>0</td>\n",
       "      <td>0</td>\n",
       "      <td>...</td>\n",
       "      <td>0</td>\n",
       "      <td>0</td>\n",
       "      <td>0</td>\n",
       "      <td>0</td>\n",
       "      <td>0</td>\n",
       "      <td>0</td>\n",
       "      <td>0</td>\n",
       "      <td>0</td>\n",
       "      <td>0</td>\n",
       "      <td>0</td>\n",
       "    </tr>\n",
       "    <tr>\n",
       "      <th>1669</th>\n",
       "      <td>0</td>\n",
       "      <td>0</td>\n",
       "      <td>0</td>\n",
       "      <td>0</td>\n",
       "      <td>0</td>\n",
       "      <td>0</td>\n",
       "      <td>0</td>\n",
       "      <td>0</td>\n",
       "      <td>0</td>\n",
       "      <td>0</td>\n",
       "      <td>...</td>\n",
       "      <td>0</td>\n",
       "      <td>0</td>\n",
       "      <td>0</td>\n",
       "      <td>0</td>\n",
       "      <td>0</td>\n",
       "      <td>0</td>\n",
       "      <td>0</td>\n",
       "      <td>0</td>\n",
       "      <td>0</td>\n",
       "      <td>0</td>\n",
       "    </tr>\n",
       "    <tr>\n",
       "      <th>1670</th>\n",
       "      <td>0</td>\n",
       "      <td>2</td>\n",
       "      <td>0</td>\n",
       "      <td>0</td>\n",
       "      <td>0</td>\n",
       "      <td>0</td>\n",
       "      <td>0</td>\n",
       "      <td>0</td>\n",
       "      <td>0</td>\n",
       "      <td>0</td>\n",
       "      <td>...</td>\n",
       "      <td>0</td>\n",
       "      <td>0</td>\n",
       "      <td>0</td>\n",
       "      <td>0</td>\n",
       "      <td>0</td>\n",
       "      <td>0</td>\n",
       "      <td>0</td>\n",
       "      <td>0</td>\n",
       "      <td>0</td>\n",
       "      <td>0</td>\n",
       "    </tr>\n",
       "    <tr>\n",
       "      <th>1671</th>\n",
       "      <td>0</td>\n",
       "      <td>0</td>\n",
       "      <td>0</td>\n",
       "      <td>0</td>\n",
       "      <td>0</td>\n",
       "      <td>0</td>\n",
       "      <td>0</td>\n",
       "      <td>0</td>\n",
       "      <td>0</td>\n",
       "      <td>0</td>\n",
       "      <td>...</td>\n",
       "      <td>0</td>\n",
       "      <td>0</td>\n",
       "      <td>0</td>\n",
       "      <td>0</td>\n",
       "      <td>0</td>\n",
       "      <td>0</td>\n",
       "      <td>0</td>\n",
       "      <td>0</td>\n",
       "      <td>0</td>\n",
       "      <td>0</td>\n",
       "    </tr>\n",
       "  </tbody>\n",
       "</table>\n",
       "<p>1672 rows × 7004 columns</p>\n",
       "</div>"
      ],
      "text/plain": [
       "      00  000  000pes  008704050406  0089  0121  01223585236  01223585334  02  \\\n",
       "0      0    0       0             0     0     0            0            0   0   \n",
       "1      0    0       0             0     0     0            0            0   0   \n",
       "2      0    0       0             0     0     0            0            0   0   \n",
       "3      0    0       0             0     0     0            0            0   0   \n",
       "4      0    0       0             0     0     0            0            0   0   \n",
       "...   ..  ...     ...           ...   ...   ...          ...          ...  ..   \n",
       "1667   0    0       0             0     0     0            0            0   0   \n",
       "1668   0    0       0             0     0     0            0            0   0   \n",
       "1669   0    0       0             0     0     0            0            0   0   \n",
       "1670   0    2       0             0     0     0            0            0   0   \n",
       "1671   0    0       0             0     0     0            0            0   0   \n",
       "\n",
       "      0207  ...  zed  zeros  zhong  zindgi  zoe  zogtorius  zoom  zouk  zyada  \\\n",
       "0        0  ...    0      0      0       0    0          0     0     0      0   \n",
       "1        0  ...    0      0      0       0    0          0     0     0      0   \n",
       "2        0  ...    0      0      0       0    0          0     0     0      0   \n",
       "3        0  ...    0      0      0       0    0          0     0     0      0   \n",
       "4        0  ...    0      0      0       0    0          0     0     0      0   \n",
       "...    ...  ...  ...    ...    ...     ...  ...        ...   ...   ...    ...   \n",
       "1667     0  ...    0      0      0       0    0          0     0     0      0   \n",
       "1668     0  ...    0      0      0       0    0          0     0     0      0   \n",
       "1669     0  ...    0      0      0       0    0          0     0     0      0   \n",
       "1670     0  ...    0      0      0       0    0          0     0     0      0   \n",
       "1671     0  ...    0      0      0       0    0          0     0     0      0   \n",
       "\n",
       "      èn  \n",
       "0      0  \n",
       "1      0  \n",
       "2      0  \n",
       "3      0  \n",
       "4      0  \n",
       "...   ..  \n",
       "1667   0  \n",
       "1668   0  \n",
       "1669   0  \n",
       "1670   0  \n",
       "1671   0  \n",
       "\n",
       "[1672 rows x 7004 columns]"
      ]
     },
     "execution_count": 20,
     "metadata": {},
     "output_type": "execute_result"
    }
   ],
   "source": [
    "pd.DataFrame(xtest_cv_transformed.toarray(),columns=countvect.get_feature_names())"
   ]
  },
  {
   "cell_type": "code",
   "execution_count": 21,
   "id": "7df7afb4",
   "metadata": {},
   "outputs": [
    {
     "data": {
      "text/plain": [
       "array([[0, 0, 0, ..., 0, 0, 0],\n",
       "       [0, 0, 0, ..., 0, 0, 0],\n",
       "       [0, 0, 0, ..., 0, 0, 0],\n",
       "       ...,\n",
       "       [0, 0, 0, ..., 0, 0, 0],\n",
       "       [0, 0, 0, ..., 0, 0, 0],\n",
       "       [0, 0, 0, ..., 0, 0, 0]])"
      ]
     },
     "execution_count": 21,
     "metadata": {},
     "output_type": "execute_result"
    }
   ],
   "source": [
    "xtrain_cv_transformed.toarray()"
   ]
  },
  {
   "cell_type": "code",
   "execution_count": 22,
   "id": "c01be20f",
   "metadata": {},
   "outputs": [
    {
     "name": "stdout",
     "output_type": "stream",
     "text": [
      "  (0, 260)\t1\n",
      "  (0, 944)\t1\n",
      "  (0, 2222)\t1\n",
      "  (0, 3630)\t1\n",
      "  (0, 3635)\t1\n",
      "  (0, 5026)\t1\n",
      "  (0, 6908)\t1\n",
      "  (1, 4330)\t1\n",
      "  (1, 5088)\t1\n",
      "  (1, 6400)\t1\n",
      "  (2, 1558)\t1\n",
      "  (2, 1883)\t1\n",
      "  (2, 5321)\t1\n",
      "  (2, 5910)\t1\n",
      "  (3, 890)\t1\n",
      "  (3, 1763)\t1\n",
      "  (3, 2033)\t1\n",
      "  (3, 5393)\t1\n",
      "  (3, 6158)\t1\n",
      "  (4, 2865)\t1\n",
      "  (4, 3169)\t1\n",
      "  (4, 5676)\t1\n",
      "  (4, 6865)\t1\n",
      "  (5, 3166)\t1\n",
      "  (5, 3715)\t1\n",
      "  :\t:\n",
      "  (3895, 2278)\t1\n",
      "  (3895, 2892)\t1\n",
      "  (3895, 3086)\t1\n",
      "  (3895, 3734)\t1\n",
      "  (3895, 6836)\t1\n",
      "  (3895, 6852)\t1\n",
      "  (3896, 3638)\t1\n",
      "  (3896, 3759)\t1\n",
      "  (3896, 5752)\t1\n",
      "  (3897, 2712)\t1\n",
      "  (3897, 3049)\t1\n",
      "  (3897, 4852)\t1\n",
      "  (3897, 5099)\t1\n",
      "  (3897, 5756)\t1\n",
      "  (3897, 5757)\t1\n",
      "  (3898, 3464)\t1\n",
      "  (3898, 4387)\t1\n",
      "  (3898, 5482)\t1\n",
      "  (3898, 6286)\t1\n",
      "  (3899, 2081)\t1\n",
      "  (3899, 3493)\t1\n",
      "  (3899, 4250)\t1\n",
      "  (3899, 5389)\t1\n",
      "  (3899, 5724)\t1\n",
      "  (3899, 6076)\t1\n"
     ]
    }
   ],
   "source": [
    "print(xtrain_cv_transformed)"
   ]
  },
  {
   "cell_type": "code",
   "execution_count": 23,
   "id": "83a42daf",
   "metadata": {},
   "outputs": [],
   "source": [
    "# Building MultiNomial Naive Bayes\n",
    "\n",
    "import warnings\n",
    "\n",
    "warnings.filterwarnings(\"ignore\")\n",
    "\n",
    "mnb = MultinomialNB()\n",
    "\n",
    "mnb.fit(xtrain_cv_transformed,ytrain)\n",
    "\n",
    "y_pred_cv_class = mnb.predict(xtest_cv_transformed)\n",
    "\n",
    "y_pred_cv_proba = mnb.predict_proba(xtest_cv_transformed)\n"
   ]
  },
  {
   "cell_type": "code",
   "execution_count": 24,
   "id": "68c06d91",
   "metadata": {
    "scrolled": true
   },
   "outputs": [
    {
     "data": {
      "text/plain": [
       "array([0, 0, 0, ..., 0, 1, 0])"
      ]
     },
     "execution_count": 24,
     "metadata": {},
     "output_type": "execute_result"
    }
   ],
   "source": [
    "y_pred_cv_class"
   ]
  },
  {
   "cell_type": "code",
   "execution_count": 25,
   "id": "698a4050",
   "metadata": {},
   "outputs": [
    {
     "data": {
      "text/plain": [
       "array([[9.99853440e-01, 1.46559680e-04],\n",
       "       [9.95887085e-01, 4.11291459e-03],\n",
       "       [9.99999715e-01, 2.85051896e-07],\n",
       "       ...,\n",
       "       [9.99999915e-01, 8.50005602e-08],\n",
       "       [6.39596916e-13, 1.00000000e+00],\n",
       "       [9.99999922e-01, 7.81807136e-08]])"
      ]
     },
     "execution_count": 25,
     "metadata": {},
     "output_type": "execute_result"
    }
   ],
   "source": [
    "y_pred_cv_proba"
   ]
  },
  {
   "cell_type": "markdown",
   "id": "baab7f0b",
   "metadata": {},
   "source": [
    "# Model Evaluation"
   ]
  },
  {
   "cell_type": "code",
   "execution_count": 26,
   "id": "9db97277",
   "metadata": {},
   "outputs": [
    {
     "data": {
      "text/plain": [
       "0.9874401913875598"
      ]
     },
     "execution_count": 26,
     "metadata": {},
     "output_type": "execute_result"
    }
   ],
   "source": [
    "from sklearn import metrics\n",
    "\n",
    "metrics.accuracy_score(ytest,y_pred_cv_class)"
   ]
  },
  {
   "cell_type": "code",
   "execution_count": 27,
   "id": "00964d7e",
   "metadata": {},
   "outputs": [
    {
     "data": {
      "text/plain": [
       "array([[1438,   10],\n",
       "       [  11,  213]])"
      ]
     },
     "execution_count": 27,
     "metadata": {},
     "output_type": "execute_result"
    }
   ],
   "source": [
    "# confusion matrix\n",
    "\n",
    "metrics.confusion_matrix(ytest,y_pred_cv_class)"
   ]
  },
  {
   "cell_type": "code",
   "execution_count": 28,
   "id": "b50b997c",
   "metadata": {},
   "outputs": [
    {
     "name": "stdout",
     "output_type": "stream",
     "text": [
      "[[1438   10]\n",
      " [  11  213]]\n"
     ]
    }
   ],
   "source": [
    "# confusion matrix - Here are negative class is not spam and positve class is spam and we dont want \n",
    "\n",
    "# out negative class to be identified as a spam \n",
    "\n",
    "confusion = metrics.confusion_matrix(ytest,y_pred_cv_class)\n",
    "\n",
    "TN = confusion[0,0]\n",
    "FP = confusion[0,1]\n",
    "FN = confusion[1,0]\n",
    "TP = confusion[1,1]\n",
    "\n",
    "print(confusion)"
   ]
  },
  {
   "cell_type": "code",
   "execution_count": 29,
   "id": "5b435743",
   "metadata": {},
   "outputs": [
    {
     "name": "stdout",
     "output_type": "stream",
     "text": [
      "0.9508928571428571\n",
      "0.9930939226519337\n",
      "0.9551569506726457\n",
      "0.9508928571428571\n",
      "0.9530201342281879\n"
     ]
    }
   ],
   "source": [
    "senstivity = TP/float(TP+FN) # out of actual spams how many are correctly predicted\n",
    "\n",
    "specificity = TN/float(TN+FP) # out of all the hame how many model correctly predicted \n",
    "#-- We want this to be high since we dont want actualy mails to be classified as spam\n",
    "\n",
    "precision = TP/(TP+FP)\n",
    "\n",
    "\n",
    "print(senstivity or recall)\n",
    "print(specificity)\n",
    "#print(precision)\n",
    "\n",
    "print(metrics.precision_score(ytest,y_pred_cv_class)) # Of all the set where model has predcited as positive i.e spam how many are actually positives\n",
    "\n",
    "print(metrics.recall_score(ytest,y_pred_cv_class)) \n",
    "\n",
    "print(metrics.f1_score(ytest,y_pred_cv_class)) # Harmonic mean between precision and recall its good "
   ]
  },
  {
   "cell_type": "code",
   "execution_count": 30,
   "id": "990c496c",
   "metadata": {},
   "outputs": [
    {
     "data": {
      "text/plain": [
       "array([[9.99853440e-01, 1.46559680e-04],\n",
       "       [9.95887085e-01, 4.11291459e-03],\n",
       "       [9.99999715e-01, 2.85051896e-07],\n",
       "       ...,\n",
       "       [9.99999915e-01, 8.50005602e-08],\n",
       "       [6.39596916e-13, 1.00000000e+00],\n",
       "       [9.99999922e-01, 7.81807136e-08]])"
      ]
     },
     "execution_count": 30,
     "metadata": {},
     "output_type": "execute_result"
    }
   ],
   "source": [
    "y_pred_cv_proba"
   ]
  },
  {
   "cell_type": "code",
   "execution_count": 31,
   "id": "c97dbb0d",
   "metadata": {},
   "outputs": [
    {
     "data": {
      "text/plain": [
       "array([1.46559680e-04, 4.11291459e-03, 2.85051896e-07, ...,\n",
       "       8.50005602e-08, 1.00000000e+00, 7.81807136e-08])"
      ]
     },
     "execution_count": 31,
     "metadata": {},
     "output_type": "execute_result"
    }
   ],
   "source": [
    "y_pred_cv_proba[:,1]"
   ]
  },
  {
   "cell_type": "code",
   "execution_count": 32,
   "id": "18869f83",
   "metadata": {},
   "outputs": [
    {
     "name": "stdout",
     "output_type": "stream",
     "text": [
      "0.006906077348066298\n",
      "0.9508928571428571\n"
     ]
    }
   ],
   "source": [
    "FPR = FP/(TN+FP) # TN+FP total negative 1-FPR is specificity\n",
    "\n",
    "print(FPR)\n",
    "\n",
    "#Treu Positive Rate\n",
    "\n",
    "TPR = TP/(TP+FN) # TN+FP total negative - Sensitivity\n",
    "\n",
    "print(TPR)"
   ]
  },
  {
   "cell_type": "code",
   "execution_count": 33,
   "id": "7b2c4688",
   "metadata": {},
   "outputs": [
    {
     "name": "stdout",
     "output_type": "stream",
     "text": [
      "0.9851950966850829\n",
      "0.9851950966850829\n"
     ]
    }
   ],
   "source": [
    "# Create an ROC Curve Pass the negative probability\n",
    "\n",
    "# The function takes both the true outcomes (0,1) \n",
    "# from the test set and the predicted probabilities for the 1 class. \n",
    "# The function returns the false positive rates for each threshold, \n",
    "# true positive rates for each threshold and thresholds\n",
    "\n",
    "from sklearn.metrics import roc_auc_score,roc_curve,auc\n",
    "\n",
    "fpr,tpr,thresholds = roc_curve(ytest,y_pred_cv_proba[:,1])\n",
    "\n",
    "auc_score = roc_auc_score(ytest,y_pred_cv_proba[:,1])\n",
    "\n",
    "#print(fpr)\n",
    "#print(tpr)\n",
    "#print(thresholds)\n",
    "print(auc_score)\n",
    "\n",
    "\n",
    "auc = auc(fpr,tpr) # Same as auc_score\n",
    "print(auc)"
   ]
  },
  {
   "cell_type": "code",
   "execution_count": 34,
   "id": "6dd72307",
   "metadata": {},
   "outputs": [
    {
     "data": {
      "text/html": [
       "<div>\n",
       "<style scoped>\n",
       "    .dataframe tbody tr th:only-of-type {\n",
       "        vertical-align: middle;\n",
       "    }\n",
       "\n",
       "    .dataframe tbody tr th {\n",
       "        vertical-align: top;\n",
       "    }\n",
       "\n",
       "    .dataframe thead th {\n",
       "        text-align: right;\n",
       "    }\n",
       "</style>\n",
       "<table border=\"1\" class=\"dataframe\">\n",
       "  <thead>\n",
       "    <tr style=\"text-align: right;\">\n",
       "      <th></th>\n",
       "      <th>FPR</th>\n",
       "      <th>TPR</th>\n",
       "      <th>Threshold</th>\n",
       "    </tr>\n",
       "  </thead>\n",
       "  <tbody>\n",
       "    <tr>\n",
       "      <th>0</th>\n",
       "      <td>0.000000</td>\n",
       "      <td>0.000000</td>\n",
       "      <td>2.000000e+00</td>\n",
       "    </tr>\n",
       "    <tr>\n",
       "      <th>1</th>\n",
       "      <td>0.000000</td>\n",
       "      <td>0.276786</td>\n",
       "      <td>1.000000e+00</td>\n",
       "    </tr>\n",
       "    <tr>\n",
       "      <th>2</th>\n",
       "      <td>0.000000</td>\n",
       "      <td>0.321429</td>\n",
       "      <td>1.000000e+00</td>\n",
       "    </tr>\n",
       "    <tr>\n",
       "      <th>3</th>\n",
       "      <td>0.000000</td>\n",
       "      <td>0.339286</td>\n",
       "      <td>1.000000e+00</td>\n",
       "    </tr>\n",
       "    <tr>\n",
       "      <th>4</th>\n",
       "      <td>0.000000</td>\n",
       "      <td>0.343750</td>\n",
       "      <td>1.000000e+00</td>\n",
       "    </tr>\n",
       "    <tr>\n",
       "      <th>...</th>\n",
       "      <td>...</td>\n",
       "      <td>...</td>\n",
       "      <td>...</td>\n",
       "    </tr>\n",
       "    <tr>\n",
       "      <th>140</th>\n",
       "      <td>0.983425</td>\n",
       "      <td>1.000000</td>\n",
       "      <td>6.333014e-15</td>\n",
       "    </tr>\n",
       "    <tr>\n",
       "      <th>141</th>\n",
       "      <td>0.984807</td>\n",
       "      <td>1.000000</td>\n",
       "      <td>6.207424e-15</td>\n",
       "    </tr>\n",
       "    <tr>\n",
       "      <th>142</th>\n",
       "      <td>0.997238</td>\n",
       "      <td>1.000000</td>\n",
       "      <td>2.180344e-22</td>\n",
       "    </tr>\n",
       "    <tr>\n",
       "      <th>143</th>\n",
       "      <td>0.998619</td>\n",
       "      <td>1.000000</td>\n",
       "      <td>4.887612e-23</td>\n",
       "    </tr>\n",
       "    <tr>\n",
       "      <th>144</th>\n",
       "      <td>1.000000</td>\n",
       "      <td>1.000000</td>\n",
       "      <td>1.562018e-40</td>\n",
       "    </tr>\n",
       "  </tbody>\n",
       "</table>\n",
       "<p>145 rows × 3 columns</p>\n",
       "</div>"
      ],
      "text/plain": [
       "          FPR       TPR     Threshold\n",
       "0    0.000000  0.000000  2.000000e+00\n",
       "1    0.000000  0.276786  1.000000e+00\n",
       "2    0.000000  0.321429  1.000000e+00\n",
       "3    0.000000  0.339286  1.000000e+00\n",
       "4    0.000000  0.343750  1.000000e+00\n",
       "..        ...       ...           ...\n",
       "140  0.983425  1.000000  6.333014e-15\n",
       "141  0.984807  1.000000  6.207424e-15\n",
       "142  0.997238  1.000000  2.180344e-22\n",
       "143  0.998619  1.000000  4.887612e-23\n",
       "144  1.000000  1.000000  1.562018e-40\n",
       "\n",
       "[145 rows x 3 columns]"
      ]
     },
     "execution_count": 34,
     "metadata": {},
     "output_type": "execute_result"
    }
   ],
   "source": [
    "pd.DataFrame({'FPR':fpr,'TPR':tpr,'Threshold':thresholds})"
   ]
  },
  {
   "cell_type": "code",
   "execution_count": 35,
   "id": "fa2b2fff",
   "metadata": {},
   "outputs": [],
   "source": [
    "def draw_roc(actuals,probabs):\n",
    "    fpr,tpr,thresholds = roc_curve(ytest,y_pred_cv_proba[:,1],drop_intermediate=False)\n",
    "    auc_score = roc_auc_score(actuals,probabs)\n",
    "    plt.figure(figsize=(12,10))\n",
    "    plt.plot(fpr,tpr, label='ROC Curve (area = %0.02f)' % auc_score)\n",
    "#     plt.plot([0,1],[0,1],'k--')\n",
    "#     plt.xlim([0.0,1.0])\n",
    "#     plt.ylim([0.0,1.0])\n",
    "    plt.xlabel('False Positive Rate')\n",
    "    plt.ylabel('True Positive Rate')\n",
    "    plt.title('Receiver operating characterstics example')\n",
    "    plt.legend(loc=\"lower right\")\n",
    "    plt.show()\n",
    "    \n",
    "    return None"
   ]
  },
  {
   "cell_type": "code",
   "execution_count": 36,
   "id": "88109a34",
   "metadata": {},
   "outputs": [
    {
     "data": {
      "image/png": "[encoded data removed]",
      "text/plain": [
       "<Figure size 864x720 with 1 Axes>"
      ]
     },
     "metadata": {
      "needs_background": "light"
     },
     "output_type": "display_data"
    }
   ],
   "source": [
    "draw_roc(ytest,y_pred_cv_proba[:,1])"
   ]
  },
  {
   "cell_type": "code",
   "execution_count": 37,
   "id": "ea767ab9",
   "metadata": {},
   "outputs": [
    {
     "name": "stdout",
     "output_type": "stream",
     "text": [
      "SPAM\n"
     ]
    }
   ],
   "source": [
    "random_text = [\"can you share me the acc detail to use your credit card and win free reward upto 10000 and will fix a date on sunday win CASH! From 100 to 20,000 pound\"]\n",
    "xmanual_test = pd.DataFrame({'sms':random_text})\n",
    "\n",
    "xmanual_transformed = countvect.transform(xmanual_test['sms']) # to compress the sparse matrix\n",
    "\n",
    "pred = mnb.predict(xmanual_transformed)\n",
    "\n",
    "if pred[0] == 0:\n",
    "    print('HAM')\n",
    "else:\n",
    "    print('SPAM')"
   ]
  }
 ],
 "metadata": {
  "kernelspec": {
   "display_name": "Python 3",
   "language": "python",
   "name": "python3"
  },
  "language_info": {
   "codemirror_mode": {
    "name": "ipython",
    "version": 3
   },
   "file_extension": ".py",
   "mimetype": "text/x-python",
   "name": "python",
   "nbconvert_exporter": "python",
   "pygments_lexer": "ipython3",
   "version": "3.8.8"
  }
 },
 "nbformat": 4,
 "nbformat_minor": 5
}
